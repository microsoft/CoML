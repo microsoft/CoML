{
 "cells": [
  {
   "cell_type": "code",
   "execution_count": 1,
   "id": "bf8535fc-cd9f-43e8-be90-fc4b5ce99214",
   "metadata": {},
   "outputs": [
    {
     "data": {
      "application/javascript": [
       "function getDebugInformation() {\n",
       "    const runningCells = $(\".running\");\n",
       "    if (runningCells.length === 0) {\n",
       "        console.warn(\"No running cell\");\n",
       "        return null;\n",
       "    }\n",
       "    const cellIndex = Jupyter.notebook.get_cell_elements().index(runningCells[0]);\n",
       "    if (cellIndex <= 0) {\n",
       "        console.warn(\"No previous cell\");\n",
       "        return null;\n",
       "    }\n",
       "    const cell = IPython.notebook.get_cell(cellIndex - 1);\n",
       "    const cellDump = cell.toJSON();\n",
       "    return cellDump;\n",
       "}\n",
       "\n",
       "IPython.CodeCell.prototype.native_handle_input_request = IPython.CodeCell.prototype.native_handle_input_request || IPython.CodeCell.prototype._handle_input_request;\n",
       "IPython.CodeCell.prototype._handle_input_request = function (msg) {\n",
       "    try {\n",
       "        // only apply the hack if the command is valid JSON\n",
       "        const command = JSON.parse(msg.content.prompt);\n",
       "        const kernel = IPython.notebook.kernel;\n",
       "        if (command[\"command\"] === \"last_cell\") {\n",
       "            kernel.send_input_reply(JSON.stringify(getDebugInformation()));\n",
       "        } else {\n",
       "            console.log(\"Not a command\", msg);\n",
       "            this.native_handle_input_request(msg);\n",
       "        }\n",
       "    } catch(err) {\n",
       "        console.log(\"Not a command\", msg, err);\n",
       "        this.native_handle_input_request(msg);\n",
       "    }\n",
       "}"
      ],
      "text/plain": [
       "<IPython.core.display.Javascript object>"
      ]
     },
     "metadata": {},
     "output_type": "display_data"
    }
   ],
   "source": [
    "%load_ext coml"
   ]
  },
  {
   "cell_type": "code",
   "execution_count": 2,
   "id": "3e59327c-3224-447b-a8c2-85e720c90bbd",
   "metadata": {},
   "outputs": [
    {
     "data": {
      "text/html": [
       "<style>pre { line-height: 125%; }\n",
       "td.linenos .normal { color: inherit; background-color: transparent; padding-left: 5px; padding-right: 5px; }\n",
       "span.linenos { color: inherit; background-color: transparent; padding-left: 5px; padding-right: 5px; }\n",
       "td.linenos .special { color: #000000; background-color: #ffffc0; padding-left: 5px; padding-right: 5px; }\n",
       "span.linenos.special { color: #000000; background-color: #ffffc0; padding-left: 5px; padding-right: 5px; }\n",
       ".output_html .hll { background-color: #ffffcc }\n",
       ".output_html { background: #f8f8f8; }\n",
       ".output_html .c { color: #3D7B7B; font-style: italic } /* Comment */\n",
       ".output_html .err { border: 1px solid #FF0000 } /* Error */\n",
       ".output_html .k { color: #008000; font-weight: bold } /* Keyword */\n",
       ".output_html .o { color: #666666 } /* Operator */\n",
       ".output_html .ch { color: #3D7B7B; font-style: italic } /* Comment.Hashbang */\n",
       ".output_html .cm { color: #3D7B7B; font-style: italic } /* Comment.Multiline */\n",
       ".output_html .cp { color: #9C6500 } /* Comment.Preproc */\n",
       ".output_html .cpf { color: #3D7B7B; font-style: italic } /* Comment.PreprocFile */\n",
       ".output_html .c1 { color: #3D7B7B; font-style: italic } /* Comment.Single */\n",
       ".output_html .cs { color: #3D7B7B; font-style: italic } /* Comment.Special */\n",
       ".output_html .gd { color: #A00000 } /* Generic.Deleted */\n",
       ".output_html .ge { font-style: italic } /* Generic.Emph */\n",
       ".output_html .gr { color: #E40000 } /* Generic.Error */\n",
       ".output_html .gh { color: #000080; font-weight: bold } /* Generic.Heading */\n",
       ".output_html .gi { color: #008400 } /* Generic.Inserted */\n",
       ".output_html .go { color: #717171 } /* Generic.Output */\n",
       ".output_html .gp { color: #000080; font-weight: bold } /* Generic.Prompt */\n",
       ".output_html .gs { font-weight: bold } /* Generic.Strong */\n",
       ".output_html .gu { color: #800080; font-weight: bold } /* Generic.Subheading */\n",
       ".output_html .gt { color: #0044DD } /* Generic.Traceback */\n",
       ".output_html .kc { color: #008000; font-weight: bold } /* Keyword.Constant */\n",
       ".output_html .kd { color: #008000; font-weight: bold } /* Keyword.Declaration */\n",
       ".output_html .kn { color: #008000; font-weight: bold } /* Keyword.Namespace */\n",
       ".output_html .kp { color: #008000 } /* Keyword.Pseudo */\n",
       ".output_html .kr { color: #008000; font-weight: bold } /* Keyword.Reserved */\n",
       ".output_html .kt { color: #B00040 } /* Keyword.Type */\n",
       ".output_html .m { color: #666666 } /* Literal.Number */\n",
       ".output_html .s { color: #BA2121 } /* Literal.String */\n",
       ".output_html .na { color: #687822 } /* Name.Attribute */\n",
       ".output_html .nb { color: #008000 } /* Name.Builtin */\n",
       ".output_html .nc { color: #0000FF; font-weight: bold } /* Name.Class */\n",
       ".output_html .no { color: #880000 } /* Name.Constant */\n",
       ".output_html .nd { color: #AA22FF } /* Name.Decorator */\n",
       ".output_html .ni { color: #717171; font-weight: bold } /* Name.Entity */\n",
       ".output_html .ne { color: #CB3F38; font-weight: bold } /* Name.Exception */\n",
       ".output_html .nf { color: #0000FF } /* Name.Function */\n",
       ".output_html .nl { color: #767600 } /* Name.Label */\n",
       ".output_html .nn { color: #0000FF; font-weight: bold } /* Name.Namespace */\n",
       ".output_html .nt { color: #008000; font-weight: bold } /* Name.Tag */\n",
       ".output_html .nv { color: #19177C } /* Name.Variable */\n",
       ".output_html .ow { color: #AA22FF; font-weight: bold } /* Operator.Word */\n",
       ".output_html .w { color: #bbbbbb } /* Text.Whitespace */\n",
       ".output_html .mb { color: #666666 } /* Literal.Number.Bin */\n",
       ".output_html .mf { color: #666666 } /* Literal.Number.Float */\n",
       ".output_html .mh { color: #666666 } /* Literal.Number.Hex */\n",
       ".output_html .mi { color: #666666 } /* Literal.Number.Integer */\n",
       ".output_html .mo { color: #666666 } /* Literal.Number.Oct */\n",
       ".output_html .sa { color: #BA2121 } /* Literal.String.Affix */\n",
       ".output_html .sb { color: #BA2121 } /* Literal.String.Backtick */\n",
       ".output_html .sc { color: #BA2121 } /* Literal.String.Char */\n",
       ".output_html .dl { color: #BA2121 } /* Literal.String.Delimiter */\n",
       ".output_html .sd { color: #BA2121; font-style: italic } /* Literal.String.Doc */\n",
       ".output_html .s2 { color: #BA2121 } /* Literal.String.Double */\n",
       ".output_html .se { color: #AA5D1F; font-weight: bold } /* Literal.String.Escape */\n",
       ".output_html .sh { color: #BA2121 } /* Literal.String.Heredoc */\n",
       ".output_html .si { color: #A45A77; font-weight: bold } /* Literal.String.Interpol */\n",
       ".output_html .sx { color: #008000 } /* Literal.String.Other */\n",
       ".output_html .sr { color: #A45A77 } /* Literal.String.Regex */\n",
       ".output_html .s1 { color: #BA2121 } /* Literal.String.Single */\n",
       ".output_html .ss { color: #19177C } /* Literal.String.Symbol */\n",
       ".output_html .bp { color: #008000 } /* Name.Builtin.Pseudo */\n",
       ".output_html .fm { color: #0000FF } /* Name.Function.Magic */\n",
       ".output_html .vc { color: #19177C } /* Name.Variable.Class */\n",
       ".output_html .vg { color: #19177C } /* Name.Variable.Global */\n",
       ".output_html .vi { color: #19177C } /* Name.Variable.Instance */\n",
       ".output_html .vm { color: #19177C } /* Name.Variable.Magic */\n",
       ".output_html .il { color: #666666 } /* Literal.Number.Integer.Long */</style><div class=\"highlight\"><pre><span></span><span class=\"c1\"># Import the dataset from this address</span>\n",
       "<span class=\"n\">url</span> <span class=\"o\">=</span> <span class=\"s1\">&#39;https://raw.githubusercontent.com/dialogue-evaluation/dailydialog/master/dailydialog/train/dialogues_train.txt&#39;</span>\n",
       "\n",
       "<span class=\"c1\"># Load the dataset into a pandas DataFrame</span>\n",
       "<span class=\"n\">conversations</span> <span class=\"o\">=</span> <span class=\"n\">pd</span><span class=\"o\">.</span><span class=\"n\">read_csv</span><span class=\"p\">(</span><span class=\"n\">url</span><span class=\"p\">,</span> <span class=\"n\">sep</span><span class=\"o\">=</span><span class=\"s1\">&#39;</span><span class=\"se\">\\t</span><span class=\"s1\">&#39;</span><span class=\"p\">,</span> <span class=\"n\">header</span><span class=\"o\">=</span><span class=\"kc\">None</span><span class=\"p\">,</span> <span class=\"n\">names</span><span class=\"o\">=</span><span class=\"p\">[</span><span class=\"s1\">&#39;conversation&#39;</span><span class=\"p\">])</span>\n",
       "\n",
       "<span class=\"c1\"># Display the first few rows of the dataset</span>\n",
       "<span class=\"n\">conversations</span><span class=\"o\">.</span><span class=\"n\">head</span><span class=\"p\">()</span>\n",
       "</pre></div>\n"
      ],
      "text/latex": [
       "\\begin{Verbatim}[commandchars=\\\\\\{\\}]\n",
       "\\PY{c+c1}{\\PYZsh{} Import the dataset from this address}\n",
       "\\PY{n}{url} \\PY{o}{=} \\PY{l+s+s1}{\\PYZsq{}}\\PY{l+s+s1}{https://raw.githubusercontent.com/dialogue\\PYZhy{}evaluation/dailydialog/master/dailydialog/train/dialogues\\PYZus{}train.txt}\\PY{l+s+s1}{\\PYZsq{}}\n",
       "\n",
       "\\PY{c+c1}{\\PYZsh{} Load the dataset into a pandas DataFrame}\n",
       "\\PY{n}{conversations} \\PY{o}{=} \\PY{n}{pd}\\PY{o}{.}\\PY{n}{read\\PYZus{}csv}\\PY{p}{(}\\PY{n}{url}\\PY{p}{,} \\PY{n}{sep}\\PY{o}{=}\\PY{l+s+s1}{\\PYZsq{}}\\PY{l+s+se}{\\PYZbs{}t}\\PY{l+s+s1}{\\PYZsq{}}\\PY{p}{,} \\PY{n}{header}\\PY{o}{=}\\PY{k+kc}{None}\\PY{p}{,} \\PY{n}{names}\\PY{o}{=}\\PY{p}{[}\\PY{l+s+s1}{\\PYZsq{}}\\PY{l+s+s1}{conversation}\\PY{l+s+s1}{\\PYZsq{}}\\PY{p}{]}\\PY{p}{)}\n",
       "\n",
       "\\PY{c+c1}{\\PYZsh{} Display the first few rows of the dataset}\n",
       "\\PY{n}{conversations}\\PY{o}{.}\\PY{n}{head}\\PY{p}{(}\\PY{p}{)}\n",
       "\\end{Verbatim}\n"
      ],
      "text/plain": [
       "# Import the dataset from this address\n",
       "url = 'https://raw.githubusercontent.com/dialogue-evaluation/dailydialog/master/dailydialog/train/dialogues_train.txt'\n",
       "\n",
       "# Load the dataset into a pandas DataFrame\n",
       "conversations = pd.read_csv(url, sep='\\t', header=None, names=['conversation'])\n",
       "\n",
       "# Display the first few rows of the dataset\n",
       "conversations.head()"
      ]
     },
     "metadata": {},
     "output_type": "display_data"
    },
    {
     "data": {
      "application/vnd.jupyter.widget-view+json": {
       "model_id": "f81819b8290e49caa421dbf470eaa4e7",
       "version_major": 2,
       "version_minor": 0
      },
      "text/plain": [
       "HBox(children=(Button(description='👍 Run it!', layout=Layout(width='33%'), style=ButtonStyle()), Button(descri…"
      ]
     },
     "metadata": {},
     "output_type": "display_data"
    }
   ],
   "source": [
    "%helpme load a toy dataset featuring conversations."
   ]
  },
  {
   "cell_type": "code",
   "execution_count": null,
   "id": "4e85e49c-4de2-4dda-9358-cb9e0d296711",
   "metadata": {},
   "outputs": [],
   "source": []
  }
 ],
 "metadata": {
  "kernelspec": {
   "display_name": "Python 3 (ipykernel)",
   "language": "python",
   "name": "python3"
  },
  "language_info": {
   "codemirror_mode": {
    "name": "ipython",
    "version": 3
   },
   "file_extension": ".py",
   "mimetype": "text/x-python",
   "name": "python",
   "nbconvert_exporter": "python",
   "pygments_lexer": "ipython3",
   "version": "3.10.11"
  }
 },
 "nbformat": 4,
 "nbformat_minor": 5
}
