{
 "cells": [
  {
   "cell_type": "code",
   "execution_count": 1,
   "metadata": {},
   "outputs": [],
   "source": [
    "# from coml.context import reproduce_function_parameters\n",
    "import coml.context"
   ]
  },
  {
   "cell_type": "code",
   "execution_count": 2,
   "metadata": {},
   "outputs": [
    {
     "name": "stdout",
     "output_type": "stream",
     "text": [
      "['x = reproduce_function_parameters(\\n', '    1,\\n', '    2,\\n', '    3\\n', ')\\n', '\\n', 'd = {\"a\": 1, \"b\": 2}\\n', 'a = {\"b\": 3, \"c\": d}\\n', 'y = reproduce_function_parameters(1, 2, a=3) or 3\\n', '\\n', 'z = reproduce_function_parameters(a, d)\\n']\n",
      "0\n",
      "<ast.Module object at 0x7f121f0e71c0>\n",
      "['x = reproduce_function_parameters(\\n', '    1,\\n', '    2,\\n', '    3\\n', ')\\n', '\\n', 'd = {\"a\": 1, \"b\": 2}\\n', 'a = {\"b\": 3, \"c\": d}\\n', 'y = reproduce_function_parameters(1, 2, a=3) or 3\\n', '\\n', 'z = reproduce_function_parameters(a, d)\\n']\n",
      "0\n",
      "<ast.Module object at 0x7f121f0e7280>\n",
      "['x = reproduce_function_parameters(\\n', '    1,\\n', '    2,\\n', '    3\\n', ')\\n', '\\n', 'd = {\"a\": 1, \"b\": 2}\\n', 'a = {\"b\": 3, \"c\": d}\\n', 'y = reproduce_function_parameters(1, 2, a=3) or 3\\n', '\\n', 'z = reproduce_function_parameters(a, d)\\n']\n",
      "0\n",
      "<ast.Module object at 0x7f121f0e7160>\n"
     ]
    }
   ],
   "source": [
    "x = coml.context.reproduce_function_parameters(\n",
    "    1,\n",
    "    2,\n",
    "    3\n",
    ")\n",
    "\n",
    "d = {\"a\": 1, \"b\": 2}\n",
    "a = {\"b\": 3, \"c\": d}\n",
    "y = coml.context.reproduce_function_parameters(1, 2, a=3) or 3\n",
    "\n",
    "z = coml.context.reproduce_function_parameters(a, **d)"
   ]
  },
  {
   "cell_type": "code",
   "execution_count": null,
   "metadata": {},
   "outputs": [],
   "source": []
  }
 ],
 "metadata": {
  "kernelspec": {
   "display_name": "py310",
   "language": "python",
   "name": "python3"
  },
  "language_info": {
   "codemirror_mode": {
    "name": "ipython",
    "version": 3
   },
   "file_extension": ".py",
   "mimetype": "text/x-python",
   "name": "python",
   "nbconvert_exporter": "python",
   "pygments_lexer": "ipython3",
   "version": "3.10.11"
  },
  "orig_nbformat": 4
 },
 "nbformat": 4,
 "nbformat_minor": 2
}
